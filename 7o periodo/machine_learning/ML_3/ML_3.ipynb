{
  "nbformat": 4,
  "nbformat_minor": 0,
  "metadata": {
    "colab": {
      "provenance": [],
      "toc_visible": true
    },
    "kernelspec": {
      "name": "python3",
      "display_name": "Python 3"
    },
    "language_info": {
      "name": "python"
    }
  },
  "cells": [
    {
      "cell_type": "markdown",
      "source": [
        "### Regressão Logística"
      ],
      "metadata": {
        "id": "_JsSQhWuXeXr"
      }
    },
    {
      "cell_type": "markdown",
      "source": [
        "Algoritmo utilizado para classificação, segue a mesma ideia que a Regressão Linear, porém nesse caso estamos trabalhando com valores discretos e não contínuos, já que queremos prever classes/rótulos de um certo problema.\n",
        "\n",
        "A regressão Logística é construída a partir da aplicação de uma transformação/função (denominada função logística ou sigmoide) sobre a Regressão Linear."
      ],
      "metadata": {
        "id": "QAQ8qAHMXkW3"
      }
    },
    {
      "cell_type": "markdown",
      "source": [
        "Temos a função sigmóide:\n",
        "\n",
        "\\begin{align}\n",
        "    p = \\frac{1}{1 + e^{-y}}\n",
        "    \\end{align}\n",
        "\n",
        "Em que:\n",
        "\\begin{align}\n",
        "    y = {B_0} + {B_1}{x_1} + ... + {B_n}{x_n}\n",
        "    \\end{align}"
      ],
      "metadata": {
        "id": "Fm1FDloIYGSW"
      }
    },
    {
      "cell_type": "markdown",
      "source": [
        "### Carregar e explorar os dados"
      ],
      "metadata": {
        "id": "4_wve0QMG3la"
      }
    },
    {
      "cell_type": "code",
      "execution_count": 3,
      "metadata": {
        "id": "92gNmX9RC79Z"
      },
      "outputs": [],
      "source": [
        "from ISLP import load_data\n",
        "import pandas as pd\n",
        "\n",
        "# Carregar os dados\n",
        "df = load_data('Default')"
      ]
    },
    {
      "cell_type": "markdown",
      "source": [],
      "metadata": {
        "id": "IJeyaDt0XW15"
      }
    },
    {
      "cell_type": "code",
      "source": [
        "# Informações sobre as colunas e tipos de dados\n",
        "df.info()"
      ],
      "metadata": {
        "colab": {
          "base_uri": "https://localhost:8080/"
        },
        "id": "fwzNbWNyJfau",
        "outputId": "1088be2c-fe43-4cc5-aae5-9636332cffb4"
      },
      "execution_count": null,
      "outputs": [
        {
          "output_type": "stream",
          "name": "stdout",
          "text": [
            "<class 'pandas.core.frame.DataFrame'>\n",
            "RangeIndex: 10000 entries, 0 to 9999\n",
            "Data columns (total 4 columns):\n",
            " #   Column   Non-Null Count  Dtype   \n",
            "---  ------   --------------  -----   \n",
            " 0   default  10000 non-null  category\n",
            " 1   student  10000 non-null  category\n",
            " 2   balance  10000 non-null  float64 \n",
            " 3   income   10000 non-null  float64 \n",
            "dtypes: category(2), float64(2)\n",
            "memory usage: 176.1 KB\n"
          ]
        }
      ]
    },
    {
      "cell_type": "code",
      "source": [
        "# Informações estatísticas\n",
        "df.describe()"
      ],
      "metadata": {
        "colab": {
          "base_uri": "https://localhost:8080/",
          "height": 300
        },
        "id": "-nlnfb_D7UNi",
        "outputId": "c1bfa4ab-9812-41a6-ebaf-b382a9d1824f"
      },
      "execution_count": null,
      "outputs": [
        {
          "output_type": "execute_result",
          "data": {
            "text/plain": [
              "            balance        income\n",
              "count  10000.000000  10000.000000\n",
              "mean     835.374886  33516.981876\n",
              "std      483.714985  13336.639563\n",
              "min        0.000000    771.967729\n",
              "25%      481.731105  21340.462903\n",
              "50%      823.636973  34552.644802\n",
              "75%     1166.308386  43807.729272\n",
              "max     2654.322576  73554.233495"
            ],
            "text/html": [
              "\n",
              "  <div id=\"df-2ac893d7-77cf-4a7e-bea4-0e61652b62ed\" class=\"colab-df-container\">\n",
              "    <div>\n",
              "<style scoped>\n",
              "    .dataframe tbody tr th:only-of-type {\n",
              "        vertical-align: middle;\n",
              "    }\n",
              "\n",
              "    .dataframe tbody tr th {\n",
              "        vertical-align: top;\n",
              "    }\n",
              "\n",
              "    .dataframe thead th {\n",
              "        text-align: right;\n",
              "    }\n",
              "</style>\n",
              "<table border=\"1\" class=\"dataframe\">\n",
              "  <thead>\n",
              "    <tr style=\"text-align: right;\">\n",
              "      <th></th>\n",
              "      <th>balance</th>\n",
              "      <th>income</th>\n",
              "    </tr>\n",
              "  </thead>\n",
              "  <tbody>\n",
              "    <tr>\n",
              "      <th>count</th>\n",
              "      <td>10000.000000</td>\n",
              "      <td>10000.000000</td>\n",
              "    </tr>\n",
              "    <tr>\n",
              "      <th>mean</th>\n",
              "      <td>835.374886</td>\n",
              "      <td>33516.981876</td>\n",
              "    </tr>\n",
              "    <tr>\n",
              "      <th>std</th>\n",
              "      <td>483.714985</td>\n",
              "      <td>13336.639563</td>\n",
              "    </tr>\n",
              "    <tr>\n",
              "      <th>min</th>\n",
              "      <td>0.000000</td>\n",
              "      <td>771.967729</td>\n",
              "    </tr>\n",
              "    <tr>\n",
              "      <th>25%</th>\n",
              "      <td>481.731105</td>\n",
              "      <td>21340.462903</td>\n",
              "    </tr>\n",
              "    <tr>\n",
              "      <th>50%</th>\n",
              "      <td>823.636973</td>\n",
              "      <td>34552.644802</td>\n",
              "    </tr>\n",
              "    <tr>\n",
              "      <th>75%</th>\n",
              "      <td>1166.308386</td>\n",
              "      <td>43807.729272</td>\n",
              "    </tr>\n",
              "    <tr>\n",
              "      <th>max</th>\n",
              "      <td>2654.322576</td>\n",
              "      <td>73554.233495</td>\n",
              "    </tr>\n",
              "  </tbody>\n",
              "</table>\n",
              "</div>\n",
              "    <div class=\"colab-df-buttons\">\n",
              "\n",
              "  <div class=\"colab-df-container\">\n",
              "    <button class=\"colab-df-convert\" onclick=\"convertToInteractive('df-2ac893d7-77cf-4a7e-bea4-0e61652b62ed')\"\n",
              "            title=\"Convert this dataframe to an interactive table.\"\n",
              "            style=\"display:none;\">\n",
              "\n",
              "  <svg xmlns=\"http://www.w3.org/2000/svg\" height=\"24px\" viewBox=\"0 -960 960 960\">\n",
              "    <path d=\"M120-120v-720h720v720H120Zm60-500h600v-160H180v160Zm220 220h160v-160H400v160Zm0 220h160v-160H400v160ZM180-400h160v-160H180v160Zm440 0h160v-160H620v160ZM180-180h160v-160H180v160Zm440 0h160v-160H620v160Z\"/>\n",
              "  </svg>\n",
              "    </button>\n",
              "\n",
              "  <style>\n",
              "    .colab-df-container {\n",
              "      display:flex;\n",
              "      gap: 12px;\n",
              "    }\n",
              "\n",
              "    .colab-df-convert {\n",
              "      background-color: #E8F0FE;\n",
              "      border: none;\n",
              "      border-radius: 50%;\n",
              "      cursor: pointer;\n",
              "      display: none;\n",
              "      fill: #1967D2;\n",
              "      height: 32px;\n",
              "      padding: 0 0 0 0;\n",
              "      width: 32px;\n",
              "    }\n",
              "\n",
              "    .colab-df-convert:hover {\n",
              "      background-color: #E2EBFA;\n",
              "      box-shadow: 0px 1px 2px rgba(60, 64, 67, 0.3), 0px 1px 3px 1px rgba(60, 64, 67, 0.15);\n",
              "      fill: #174EA6;\n",
              "    }\n",
              "\n",
              "    .colab-df-buttons div {\n",
              "      margin-bottom: 4px;\n",
              "    }\n",
              "\n",
              "    [theme=dark] .colab-df-convert {\n",
              "      background-color: #3B4455;\n",
              "      fill: #D2E3FC;\n",
              "    }\n",
              "\n",
              "    [theme=dark] .colab-df-convert:hover {\n",
              "      background-color: #434B5C;\n",
              "      box-shadow: 0px 1px 3px 1px rgba(0, 0, 0, 0.15);\n",
              "      filter: drop-shadow(0px 1px 2px rgba(0, 0, 0, 0.3));\n",
              "      fill: #FFFFFF;\n",
              "    }\n",
              "  </style>\n",
              "\n",
              "    <script>\n",
              "      const buttonEl =\n",
              "        document.querySelector('#df-2ac893d7-77cf-4a7e-bea4-0e61652b62ed button.colab-df-convert');\n",
              "      buttonEl.style.display =\n",
              "        google.colab.kernel.accessAllowed ? 'block' : 'none';\n",
              "\n",
              "      async function convertToInteractive(key) {\n",
              "        const element = document.querySelector('#df-2ac893d7-77cf-4a7e-bea4-0e61652b62ed');\n",
              "        const dataTable =\n",
              "          await google.colab.kernel.invokeFunction('convertToInteractive',\n",
              "                                                    [key], {});\n",
              "        if (!dataTable) return;\n",
              "\n",
              "        const docLinkHtml = 'Like what you see? Visit the ' +\n",
              "          '<a target=\"_blank\" href=https://colab.research.google.com/notebooks/data_table.ipynb>data table notebook</a>'\n",
              "          + ' to learn more about interactive tables.';\n",
              "        element.innerHTML = '';\n",
              "        dataTable['output_type'] = 'display_data';\n",
              "        await google.colab.output.renderOutput(dataTable, element);\n",
              "        const docLink = document.createElement('div');\n",
              "        docLink.innerHTML = docLinkHtml;\n",
              "        element.appendChild(docLink);\n",
              "      }\n",
              "    </script>\n",
              "  </div>\n",
              "\n",
              "\n",
              "<div id=\"df-1b38e10b-6a48-42ca-be7f-39c7bc76b208\">\n",
              "  <button class=\"colab-df-quickchart\" onclick=\"quickchart('df-1b38e10b-6a48-42ca-be7f-39c7bc76b208')\"\n",
              "            title=\"Suggest charts\"\n",
              "            style=\"display:none;\">\n",
              "\n",
              "<svg xmlns=\"http://www.w3.org/2000/svg\" height=\"24px\"viewBox=\"0 0 24 24\"\n",
              "     width=\"24px\">\n",
              "    <g>\n",
              "        <path d=\"M19 3H5c-1.1 0-2 .9-2 2v14c0 1.1.9 2 2 2h14c1.1 0 2-.9 2-2V5c0-1.1-.9-2-2-2zM9 17H7v-7h2v7zm4 0h-2V7h2v10zm4 0h-2v-4h2v4z\"/>\n",
              "    </g>\n",
              "</svg>\n",
              "  </button>\n",
              "\n",
              "<style>\n",
              "  .colab-df-quickchart {\n",
              "      --bg-color: #E8F0FE;\n",
              "      --fill-color: #1967D2;\n",
              "      --hover-bg-color: #E2EBFA;\n",
              "      --hover-fill-color: #174EA6;\n",
              "      --disabled-fill-color: #AAA;\n",
              "      --disabled-bg-color: #DDD;\n",
              "  }\n",
              "\n",
              "  [theme=dark] .colab-df-quickchart {\n",
              "      --bg-color: #3B4455;\n",
              "      --fill-color: #D2E3FC;\n",
              "      --hover-bg-color: #434B5C;\n",
              "      --hover-fill-color: #FFFFFF;\n",
              "      --disabled-bg-color: #3B4455;\n",
              "      --disabled-fill-color: #666;\n",
              "  }\n",
              "\n",
              "  .colab-df-quickchart {\n",
              "    background-color: var(--bg-color);\n",
              "    border: none;\n",
              "    border-radius: 50%;\n",
              "    cursor: pointer;\n",
              "    display: none;\n",
              "    fill: var(--fill-color);\n",
              "    height: 32px;\n",
              "    padding: 0;\n",
              "    width: 32px;\n",
              "  }\n",
              "\n",
              "  .colab-df-quickchart:hover {\n",
              "    background-color: var(--hover-bg-color);\n",
              "    box-shadow: 0 1px 2px rgba(60, 64, 67, 0.3), 0 1px 3px 1px rgba(60, 64, 67, 0.15);\n",
              "    fill: var(--button-hover-fill-color);\n",
              "  }\n",
              "\n",
              "  .colab-df-quickchart-complete:disabled,\n",
              "  .colab-df-quickchart-complete:disabled:hover {\n",
              "    background-color: var(--disabled-bg-color);\n",
              "    fill: var(--disabled-fill-color);\n",
              "    box-shadow: none;\n",
              "  }\n",
              "\n",
              "  .colab-df-spinner {\n",
              "    border: 2px solid var(--fill-color);\n",
              "    border-color: transparent;\n",
              "    border-bottom-color: var(--fill-color);\n",
              "    animation:\n",
              "      spin 1s steps(1) infinite;\n",
              "  }\n",
              "\n",
              "  @keyframes spin {\n",
              "    0% {\n",
              "      border-color: transparent;\n",
              "      border-bottom-color: var(--fill-color);\n",
              "      border-left-color: var(--fill-color);\n",
              "    }\n",
              "    20% {\n",
              "      border-color: transparent;\n",
              "      border-left-color: var(--fill-color);\n",
              "      border-top-color: var(--fill-color);\n",
              "    }\n",
              "    30% {\n",
              "      border-color: transparent;\n",
              "      border-left-color: var(--fill-color);\n",
              "      border-top-color: var(--fill-color);\n",
              "      border-right-color: var(--fill-color);\n",
              "    }\n",
              "    40% {\n",
              "      border-color: transparent;\n",
              "      border-right-color: var(--fill-color);\n",
              "      border-top-color: var(--fill-color);\n",
              "    }\n",
              "    60% {\n",
              "      border-color: transparent;\n",
              "      border-right-color: var(--fill-color);\n",
              "    }\n",
              "    80% {\n",
              "      border-color: transparent;\n",
              "      border-right-color: var(--fill-color);\n",
              "      border-bottom-color: var(--fill-color);\n",
              "    }\n",
              "    90% {\n",
              "      border-color: transparent;\n",
              "      border-bottom-color: var(--fill-color);\n",
              "    }\n",
              "  }\n",
              "</style>\n",
              "\n",
              "  <script>\n",
              "    async function quickchart(key) {\n",
              "      const quickchartButtonEl =\n",
              "        document.querySelector('#' + key + ' button');\n",
              "      quickchartButtonEl.disabled = true;  // To prevent multiple clicks.\n",
              "      quickchartButtonEl.classList.add('colab-df-spinner');\n",
              "      try {\n",
              "        const charts = await google.colab.kernel.invokeFunction(\n",
              "            'suggestCharts', [key], {});\n",
              "      } catch (error) {\n",
              "        console.error('Error during call to suggestCharts:', error);\n",
              "      }\n",
              "      quickchartButtonEl.classList.remove('colab-df-spinner');\n",
              "      quickchartButtonEl.classList.add('colab-df-quickchart-complete');\n",
              "    }\n",
              "    (() => {\n",
              "      let quickchartButtonEl =\n",
              "        document.querySelector('#df-1b38e10b-6a48-42ca-be7f-39c7bc76b208 button');\n",
              "      quickchartButtonEl.style.display =\n",
              "        google.colab.kernel.accessAllowed ? 'block' : 'none';\n",
              "    })();\n",
              "  </script>\n",
              "</div>\n",
              "\n",
              "    </div>\n",
              "  </div>\n"
            ],
            "application/vnd.google.colaboratory.intrinsic+json": {
              "type": "dataframe",
              "summary": "{\n  \"name\": \"df\",\n  \"rows\": 8,\n  \"fields\": [\n    {\n      \"column\": \"balance\",\n      \"properties\": {\n        \"dtype\": \"number\",\n        \"std\": 3304.6041266183447,\n        \"min\": 0.0,\n        \"max\": 10000.0,\n        \"num_unique_values\": 8,\n        \"samples\": [\n          835.3748856125571,\n          823.6369726129035,\n          10000.0\n        ],\n        \"semantic_type\": \"\",\n        \"description\": \"\"\n      }\n    },\n    {\n      \"column\": \"income\",\n      \"properties\": {\n        \"dtype\": \"number\",\n        \"std\": 23044.23732535217,\n        \"min\": 771.967729386357,\n        \"max\": 73554.2334951972,\n        \"num_unique_values\": 8,\n        \"samples\": [\n          33516.981875960504,\n          34552.644802009854,\n          10000.0\n        ],\n        \"semantic_type\": \"\",\n        \"description\": \"\"\n      }\n    }\n  ]\n}"
            }
          },
          "metadata": {},
          "execution_count": 11
        }
      ]
    },
    {
      "cell_type": "markdown",
      "source": [
        "### Preparação dos dados"
      ],
      "metadata": {
        "id": "P2XH3VRiHAYJ"
      }
    },
    {
      "cell_type": "code",
      "source": [
        "# Preparação dos dados\n",
        "# Converter a variável 'default' para binária (1 para Yes, 0 para No)\n",
        "df['default'] = df['default'].apply(lambda x: 1 if x == 'Yes' else 0)\n",
        "\n",
        "# Converter a variável 'student' para binária\n",
        "df['student'] = df['student'].apply(lambda x: 1 if x == 'Yes' else 0)"
      ],
      "metadata": {
        "id": "TRtYCwIoEWGB"
      },
      "execution_count": 4,
      "outputs": []
    },
    {
      "cell_type": "markdown",
      "source": [
        "### Dividir os dados em treino e teste"
      ],
      "metadata": {
        "id": "HL0x3-tAHEyQ"
      }
    },
    {
      "cell_type": "code",
      "source": [
        "from sklearn.model_selection import train_test_split\n",
        "\n",
        "# Dividir os dados em conjuntos de treino e teste (70% treino, 30% teste)\n",
        "X = df[['student', 'balance', 'income']]\n",
        "y = df['default']\n",
        "X_train, X_test, y_train, y_test = train_test_split(X, y, test_size = 0.3, random_state = 42)\n",
        "\n",
        "print(\"Tamanho do dataset de treino: \", len(X_train))\n",
        "print(\"Tamanho do dataset de teste: \", len(X_test))"
      ],
      "metadata": {
        "colab": {
          "base_uri": "https://localhost:8080/"
        },
        "id": "-Tuu-UnUEf2d",
        "outputId": "123e6e8f-77ca-4e76-83b3-0dcb21e5dfbf"
      },
      "execution_count": 5,
      "outputs": [
        {
          "output_type": "stream",
          "name": "stdout",
          "text": [
            "Tamanho do dataset de treino:  7000\n",
            "Tamanho do dataset de teste:  3000\n"
          ]
        }
      ]
    },
    {
      "cell_type": "markdown",
      "source": [
        "### Modelo de regressão logística"
      ],
      "metadata": {
        "id": "XqLaTMN1LHiu"
      }
    },
    {
      "cell_type": "code",
      "source": [
        "from sklearn.linear_model import LogisticRegression\n",
        "from sklearn.metrics import accuracy_score, confusion_matrix, precision_score\n",
        "\n",
        "def train_model(X_train, X_test, y_train, y_test):\n",
        "  model = LogisticRegression()\n",
        "  model.fit(X_train, y_train)\n",
        "  y_pred = model.predict(X_test)\n",
        "\n",
        "  accuracy = accuracy_score(y_test, y_pred)\n",
        "  conf_matrix = confusion_matrix(y_test, y_pred)\n",
        "\n",
        "  print(f\"Acurácia: {accuracy:.4f}\")\n",
        "  print(\"Matriz de Confusão:\\n\", conf_matrix)\n",
        "  print(\"\\n\")\n",
        "\n",
        "  return model, y_pred"
      ],
      "metadata": {
        "id": "blXw3OUKLJ-T"
      },
      "execution_count": 93,
      "outputs": []
    },
    {
      "cell_type": "code",
      "source": [
        "# Treinando com cada variável individualmente\n",
        "print(\"Treinando com 'balance'...\")\n",
        "model, y_pred = train_model(X_train[['balance']], X_test[['balance']], y_train, y_test)\n",
        "# Coeficientes\n",
        "print(\"Coeficiente de intercepto:\", model.intercept_.round(4))\n",
        "print(\"Variável independente:\", model.feature_names_in_)\n",
        "print(\"Coeficiente independente:\", model.coef_.round(4))\n",
        "\n",
        "print(\"\\nTreinando com 'student'...\")\n",
        "model_2, y_pred_2 = train_model(X_train[['student']], X_test[['student']], y_train, y_test)\n",
        "# Coeficientes\n",
        "print(\"Coeficiente de intercepto:\", model_2.intercept_.round(4))\n",
        "print(\"Variável independente:\", model_2.feature_names_in_)\n",
        "print(\"Coeficiente independente:\", model_2.coef_.round(4))\n",
        "\n",
        "print(\"\\nTreinando com 'income'...\")\n",
        "model_3, y_pred_3 = train_model(X_train[['income']], X_test[['income']], y_train, y_test)\n",
        "# Coeficientes\n",
        "print(\"Coeficiente de intercepto:\", model_3.intercept_.round(4))\n",
        "print(\"Variável independente:\", model_3.feature_names_in_)\n",
        "print(\"Coeficiente independente:\", model_3.coef_.round(6))\n",
        "\n",
        "# Treinando com todas as variáveis juntas\n",
        "print(\"\\nTreinando com todas as variáveis (balance, student, income)...\")\n",
        "model_4, y_pred_4 = train_model(X_train, X_test, y_train, y_test)\n",
        "# Coeficientes\n",
        "print(\"Coeficiente de intercepto:\", model_4.intercept_.round(4))\n",
        "print(\"Variável independente:\", model_4.feature_names_in_)\n",
        "print(\"Coeficiente independente:\", model_4.coef_.round(6))"
      ],
      "metadata": {
        "colab": {
          "base_uri": "https://localhost:8080/"
        },
        "id": "GuuboT-BLs1Z",
        "outputId": "8b60b1c8-635a-4972-f00d-8c838db8e8f7"
      },
      "execution_count": 9,
      "outputs": [
        {
          "output_type": "stream",
          "name": "stdout",
          "text": [
            "Treinando com 'balance'...\n",
            "Acurácia: 0.9727\n",
            "Matriz de Confusão:\n",
            " [[2894   12]\n",
            " [  70   24]]\n",
            "\n",
            "\n",
            "Coeficiente de intercepto: [-10.8001]\n",
            "Variável independente: ['balance']\n",
            "Coeficiente independente: [[0.0056]]\n",
            "\n",
            "Treinando com 'student'...\n",
            "Acurácia: 0.9687\n",
            "Matriz de Confusão:\n",
            " [[2906    0]\n",
            " [  94    0]]\n",
            "\n",
            "\n",
            "Coeficiente de intercepto: [-3.5289]\n",
            "Variável independente: ['student']\n",
            "Coeficiente independente: [[0.53]]\n",
            "\n",
            "Treinando com 'income'...\n",
            "Acurácia: 0.9687\n",
            "Matriz de Confusão:\n",
            " [[2906    0]\n",
            " [  94    0]]\n",
            "\n",
            "\n",
            "Coeficiente de intercepto: [-2.9572]\n",
            "Variável independente: ['income']\n",
            "Coeficiente independente: [[-1.2e-05]]\n",
            "\n",
            "Treinando com todas as variáveis (balance, student, income)...\n",
            "Acurácia: 0.9733\n",
            "Matriz de Confusão:\n",
            " [[2895   11]\n",
            " [  69   25]]\n",
            "\n",
            "\n",
            "Coeficiente de intercepto: [-11.1082]\n",
            "Variável independente: ['student' 'balance' 'income']\n",
            "Coeficiente independente: [[-4.67459e-01  5.78900e-03  6.00000e-06]]\n"
          ]
        }
      ]
    },
    {
      "cell_type": "markdown",
      "source": [
        "A partir da matriz de confusão treinando com todas as variáveis juntas, concluímos:  \n",
        "**Verdadeiro positivo:** 2895 casos (previu que é inadimplente e era inadimplente)  \n",
        "**Falso positivo:** 11 casos (previu que é inadimplente e não era inadimplente)  \n",
        "**Falso negativo:** 69 casos (previu que não é inadimplente e era inadimplente)  \n",
        "**Verdadeiro negativo:** 25 casos (previu que não era inadimplente e não era inadimplente)"
      ],
      "metadata": {
        "id": "nuHYRI8cNRmR"
      }
    },
    {
      "cell_type": "markdown",
      "source": [
        "### Análise dos coeficientes e interpretação"
      ],
      "metadata": {
        "id": "XyV1euNvPVFi"
      }
    },
    {
      "cell_type": "markdown",
      "source": [
        "A partir dos resultados, já podemos começar nossa análise:\n",
        "\n",
        "Coeficiente explicativo *balance:*  seu valor de 0.56% mostra que ele, sozinho, explica pouco a variável dependente que queremos classificar (a indadimplência). Ou seja, o saldo médio em seu cartão de crédito influencia (pouco) a chance de uma pessoa ser inadimplnte.\n",
        "\n",
        "Coeficiente explicativo *student:* seu alto valor de 53% mostra que essa característica influencia diretamente uma pessoa ser inadimplente ou não. Ou seja, temos uma variação de 53% observada na inadimplência se a pessoa for um estudante ou não.\n",
        "\n",
        "Coeficiente explicativo *income:* é o coeficiente que possui o menor valor explicativo sozinho, o que mostra que essa variável não explica bem a variabilidade nos dados de saída (a inadimplência)."
      ],
      "metadata": {
        "id": "FlDIHwwLpR94"
      }
    },
    {
      "cell_type": "markdown",
      "source": [
        "Explicação dos coeficientes obtidos:\n",
        "Intercepto: zerando as variáveis explicativas,"
      ],
      "metadata": {
        "id": "KLpuFGrLrlS-"
      }
    },
    {
      "cell_type": "markdown",
      "source": [
        "### Avaliação do modelo"
      ],
      "metadata": {
        "id": "lsphC61KQhER"
      }
    },
    {
      "cell_type": "code",
      "source": [
        "# Testando o modelo criado com um exemplo fictício de dados\n",
        "input = pd.DataFrame({\n",
        "    \"student\": [1],\n",
        "    \"balance\": [1881],\n",
        "    \"income\": [49903]\n",
        "})\n",
        "\n",
        "# Usar o model_4 porque esse modelo foi criado considerando todas as variáveis de entrada (student, balance, income)\n",
        "y_prob_defaulter = model_4.predict_proba(input)[0][1].round(3)\n",
        "y_prob_not_defaulter = model_4.predict_proba(input)[0][0].round(3)\n",
        "print(f\"Probabilidade de inadimplência: {y_prob_defaulter}\")\n",
        "print(f\"Probabilidade de não inadimplência: {y_prob_not_defaulter}\")\n",
        "\n",
        "# Mudando o threshold (limiar de inadimplência) pra 0.3 ao invés de 0.5\n",
        "threshold = 0.3\n",
        "if y_prob_defaulter > threshold:\n",
        "  print(\"O cliente é inadimplente\")\n",
        "else:\n",
        "  print(\"O cliente não é inadimplente\")"
      ],
      "metadata": {
        "colab": {
          "base_uri": "https://localhost:8080/"
        },
        "id": "wpGDD246Y2ly",
        "outputId": "00bd78ce-fc30-4dd6-e7d1-e4e77600ab30"
      },
      "execution_count": 125,
      "outputs": [
        {
          "output_type": "stream",
          "name": "stdout",
          "text": [
            "Probabilidade de inadimplência: 0.402\n",
            "Probabilidade de não inadimplência: 0.598\n",
            "O cliente é inadimplente\n"
          ]
        }
      ]
    },
    {
      "cell_type": "markdown",
      "source": [
        "### Ajuste do limiar de decisão"
      ],
      "metadata": {
        "id": "rwflO4ljlYzL"
      }
    },
    {
      "cell_type": "code",
      "source": [
        "# Utilizar o novo limiar para recalcular as métricas para o modelo\n",
        "y_prob_defaulter = model_4.predict_proba(X_test)[:, 1]\n",
        "y_prob_defaulter\n",
        "\n",
        "# Defina o limiar personalizado (por exemplo, 0.3) para prever inadimplência\n",
        "threshold = 0.4\n",
        "y_pred_custom = (y_prob_defaulter > threshold).astype(int)  # Gera um array binário (0 ou 1) para todas as amostras de teste\n",
        "\n",
        "# Calcule as métricas de desempenho com o novo limiar\n",
        "accuracy = accuracy_score(y_test, y_pred_custom)\n",
        "precision = precision_score(y_test, y_pred_custom)\n",
        "conf_matrix = confusion_matrix(y_test, y_pred_custom)\n",
        "\n",
        "print(f\"Acurácia: {accuracy:.4f}\")\n",
        "print(f\"Precisão: {precision:.4f}\")\n",
        "print(f\"Matriz de Confusão:\\n{conf_matrix}\")"
      ],
      "metadata": {
        "colab": {
          "base_uri": "https://localhost:8080/"
        },
        "id": "tEVWGoozeKu7",
        "outputId": "854adb10-349d-4780-8471-c836f5800c69"
      },
      "execution_count": 126,
      "outputs": [
        {
          "output_type": "stream",
          "name": "stdout",
          "text": [
            "Acurácia: 0.9707\n",
            "Precisão: 0.5536\n",
            "Matriz de Confusão:\n",
            "[[2881   25]\n",
            " [  63   31]]\n"
          ]
        }
      ]
    },
    {
      "cell_type": "markdown",
      "source": [
        "Se diminuirmos ainda mais o threshold, a acurácia diminui também. É perceptível que, como abaixamos o threshold, o modelo preve muitos mais casos de Falsos Positivos (preveu que era inadimplente, mas não é), que somam 41 de acordo com a matriz de confusão, o que faz sentido já que o limiar ficou mais baixo para a previsão de inadimplência."
      ],
      "metadata": {
        "id": "HDDeYHMbpqoC"
      }
    }
  ]
}